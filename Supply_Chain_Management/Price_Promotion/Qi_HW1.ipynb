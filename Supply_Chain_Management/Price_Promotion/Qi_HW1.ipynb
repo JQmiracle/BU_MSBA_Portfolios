{
  "nbformat": 4,
  "nbformat_minor": 0,
  "metadata": {
    "colab": {
      "name": "Qi_HW1.ipynb",
      "provenance": [],
      "collapsed_sections": [],
      "toc_visible": true
    },
    "kernelspec": {
      "name": "python3",
      "display_name": "Python 3"
    },
    "language_info": {
      "name": "python"
    }
  },
  "cells": [
    {
      "cell_type": "markdown",
      "source": [
        "# **Name: Ji Qi, Session: A1**\n",
        "\n",
        "- **Forecasting Price Changes & Promotions** \n",
        "\n",
        "- **Dataset: jeans_data**\n",
        "\n",
        "- **Background**: \n",
        "  - You are given the same dataset of prices for a pair of jeans from a medium sized fashion retailer in the southeast USA and their corresponding sales. The data is reported on a week-to-week basis. In addition to price as an input, you are also given a binary indicator variable (se_indicator) specifying whether a given week occurred during a special event (e.g., Christmas).\n",
        "\n",
        "  - In the weekly historical data, there was an original retail price for the sales offered ($135) as well as two promotional prices: 15% off ($101.25) and 25% off ($114.75).In a previous analysis (see in-class example), the two 15% off and 25% off promotions that were already tested in stores was examined to see if they had a statistically significant effect. This was done by specifying the two promo prices as dummy variables, as follows:      \n",
        "  \n",
        "  - `𝑠𝑎𝑙𝑒𝑠= 𝛽0 + 𝛽1∗𝑝𝑟𝑜𝑚𝑜𝑡𝑖𝑜𝑛114 + 𝛽2∗𝑝𝑟𝑜𝑚𝑜𝑡𝑖𝑜𝑛101 + 𝛽3∗𝑠e_indicator + ε`\n",
        "\n",
        "- **Goal**: \n",
        "  - they want you to predict the sales for a future week given you **offer promo (P): “$25 Off” (not 25% off) promotion specifically during a special event period**. \n"
      ],
      "metadata": {
        "id": "Q2gdgHU8G7ed"
      }
    },
    {
      "cell_type": "markdown",
      "source": [
        "# **Import required packages**"
      ],
      "metadata": {
        "id": "hVNtzf_mGfsl"
      }
    },
    {
      "cell_type": "code",
      "execution_count": 84,
      "metadata": {
        "id": "KcTC_gvAJUml"
      },
      "outputs": [],
      "source": [
        "# import packages\n",
        "import pandas as pd\n",
        "import numpy as np\n",
        "import matplotlib.pyplot as plt\n",
        "import statsmodels.api as sm"
      ]
    },
    {
      "cell_type": "markdown",
      "source": [
        "# **Jeans dataset information**"
      ],
      "metadata": {
        "id": "fJgdPWPOGnsB"
      }
    },
    {
      "cell_type": "code",
      "source": [
        "# import dataset\n",
        "dfjeans = pd.read_excel(\"jeans_data.xls\")"
      ],
      "metadata": {
        "id": "w8AUTt_qJW67"
      },
      "execution_count": 85,
      "outputs": []
    },
    {
      "cell_type": "code",
      "source": [
        "# check whether type of each feature is as expected\n",
        "dfjeans.info()"
      ],
      "metadata": {
        "colab": {
          "base_uri": "https://localhost:8080/"
        },
        "id": "q1XvhQSzJkLI",
        "outputId": "028b90f0-2ea4-4c8c-84c9-b6aa08fdb332"
      },
      "execution_count": 86,
      "outputs": [
        {
          "output_type": "stream",
          "name": "stdout",
          "text": [
            "<class 'pandas.core.frame.DataFrame'>\n",
            "RangeIndex: 26 entries, 0 to 25\n",
            "Data columns (total 5 columns):\n",
            " #   Column         Non-Null Count  Dtype  \n",
            "---  ------         --------------  -----  \n",
            " 0   week           26 non-null     int64  \n",
            " 1   sales          26 non-null     int64  \n",
            " 2   price          26 non-null     float64\n",
            " 3   special_event  4 non-null      object \n",
            " 4   se_indicator   26 non-null     int64  \n",
            "dtypes: float64(1), int64(3), object(1)\n",
            "memory usage: 1.1+ KB\n"
          ]
        }
      ]
    },
    {
      "cell_type": "code",
      "source": [
        "# histogram of sales\n",
        "dfjeans[\"sales\"].plot.hist()\n",
        "plt.show()"
      ],
      "metadata": {
        "colab": {
          "base_uri": "https://localhost:8080/",
          "height": 265
        },
        "id": "aqMkUSRrJmke",
        "outputId": "b469589e-afb5-4ad0-869d-6719d00b54c2"
      },
      "execution_count": 87,
      "outputs": [
        {
          "output_type": "display_data",
          "data": {
            "text/plain": [
              "<Figure size 432x288 with 1 Axes>"
            ],
            "image/png": "[encoded data removed]"
          },
          "metadata": {
            "needs_background": "light"
          }
        }
      ]
    },
    {
      "cell_type": "code",
      "source": [
        "# 6 instances of discounts\n",
        "dfjeans.price.value_counts()"
      ],
      "metadata": {
        "colab": {
          "base_uri": "https://localhost:8080/"
        },
        "id": "TV00rGvnJ-XG",
        "outputId": "509259b1-b736-48ec-8100-ea7dd1b0ebae"
      },
      "execution_count": 88,
      "outputs": [
        {
          "output_type": "execute_result",
          "data": {
            "text/plain": [
              "135.00    20\n",
              "114.75     3\n",
              "101.25     3\n",
              "Name: price, dtype: int64"
            ]
          },
          "metadata": {},
          "execution_count": 88
        }
      ]
    },
    {
      "cell_type": "code",
      "source": [
        "# sales price scatterplot\n",
        "dfjeans.plot.scatter(x=\"price\",y=\"sales\")\n",
        "plt.show()"
      ],
      "metadata": {
        "colab": {
          "base_uri": "https://localhost:8080/",
          "height": 279
        },
        "id": "Fnq7GyBRKEFf",
        "outputId": "1bdda378-6a0a-45bf-be5e-114f5d4a089c"
      },
      "execution_count": 89,
      "outputs": [
        {
          "output_type": "display_data",
          "data": {
            "text/plain": [
              "<Figure size 432x288 with 1 Axes>"
            ],
            "image/png": "[encoded data removed]"
          },
          "metadata": {
            "needs_background": "light"
          }
        }
      ]
    },
    {
      "cell_type": "code",
      "source": [
        "# 4 special events\n",
        "dfjeans.special_event.value_counts()"
      ],
      "metadata": {
        "colab": {
          "base_uri": "https://localhost:8080/"
        },
        "id": "RR_s4e94KIe_",
        "outputId": "0dabe562-d264-4a30-bd6f-9a3bf6585f8b"
      },
      "execution_count": 90,
      "outputs": [
        {
          "output_type": "execute_result",
          "data": {
            "text/plain": [
              "Presidents Day    1\n",
              "Easter            1\n",
              "Memorial Day      1\n",
              "4th of July       1\n",
              "Name: special_event, dtype: int64"
            ]
          },
          "metadata": {},
          "execution_count": 90
        }
      ]
    },
    {
      "cell_type": "code",
      "source": [
        "# with large dataset, adding the dropna=False option might help\n",
        "dfjeans.special_event.value_counts(dropna=False)"
      ],
      "metadata": {
        "colab": {
          "base_uri": "https://localhost:8080/"
        },
        "id": "3xxBcLW8KLXY",
        "outputId": "5e108590-b179-4e22-992b-381ce450fec0"
      },
      "execution_count": 91,
      "outputs": [
        {
          "output_type": "execute_result",
          "data": {
            "text/plain": [
              "NaN               22\n",
              "Presidents Day     1\n",
              "Easter             1\n",
              "Memorial Day       1\n",
              "4th of July        1\n",
              "Name: special_event, dtype: int64"
            ]
          },
          "metadata": {},
          "execution_count": 91
        }
      ]
    },
    {
      "cell_type": "markdown",
      "source": [
        "# **Model I**: Price (in $) and special event indicator as an independent variable"
      ],
      "metadata": {
        "id": "sritUKo9LXkH"
      }
    },
    {
      "cell_type": "code",
      "source": [
        "# pick 'price' and 'se_indicator' as our independent variable\n",
        "# add constant to feature matrix\n",
        "X1 = sm.add_constant(dfjeans[[\"price\",\"se_indicator\"]])\n",
        "X1"
      ],
      "metadata": {
        "id": "_I9AiNoILV1d",
        "colab": {
          "base_uri": "https://localhost:8080/",
          "height": 920
        },
        "outputId": "8d40ed30-257c-4b3e-aca7-f68612f88f48"
      },
      "execution_count": 92,
      "outputs": [
        {
          "output_type": "stream",
          "name": "stderr",
          "text": [
            "/usr/local/lib/python3.7/dist-packages/statsmodels/tsa/tsatools.py:117: FutureWarning: In a future version of pandas all arguments of concat except for the argument 'objs' will be keyword-only\n",
            "  x = pd.concat(x[::order], 1)\n"
          ]
        },
        {
          "output_type": "execute_result",
          "data": {
            "text/plain": [
              "    const   price  se_indicator\n",
              "0     1.0  114.75             1\n",
              "1     1.0  135.00             0\n",
              "2     1.0  135.00             0\n",
              "3     1.0  135.00             0\n",
              "4     1.0  135.00             0\n",
              "5     1.0  114.75             1\n",
              "6     1.0  135.00             0\n",
              "7     1.0  135.00             0\n",
              "8     1.0  135.00             0\n",
              "9     1.0  114.75             0\n",
              "10    1.0  135.00             0\n",
              "11    1.0  135.00             0\n",
              "12    1.0  135.00             0\n",
              "13    1.0  135.00             0\n",
              "14    1.0  101.25             1\n",
              "15    1.0  135.00             0\n",
              "16    1.0  135.00             0\n",
              "17    1.0  135.00             0\n",
              "18    1.0  135.00             0\n",
              "19    1.0  101.25             1\n",
              "20    1.0  135.00             0\n",
              "21    1.0  135.00             0\n",
              "22    1.0  135.00             0\n",
              "23    1.0  101.25             0\n",
              "24    1.0  135.00             0\n",
              "25    1.0  135.00             0"
            ],
            "text/html": [
              "\n",
              "  <div id=\"df-1f73cf36-79c7-4150-82d8-57abfbef4dd9\">\n",
              "    <div class=\"colab-df-container\">\n",
              "      <div>\n",
              "<style scoped>\n",
              "    .dataframe tbody tr th:only-of-type {\n",
              "        vertical-align: middle;\n",
              "    }\n",
              "\n",
              "    .dataframe tbody tr th {\n",
              "        vertical-align: top;\n",
              "    }\n",
              "\n",
              "    .dataframe thead th {\n",
              "        text-align: right;\n",
              "    }\n",
              "</style>\n",
              "<table border=\"1\" class=\"dataframe\">\n",
              "  <thead>\n",
              "    <tr style=\"text-align: right;\">\n",
              "      <th></th>\n",
              "      <th>const</th>\n",
              "      <th>price</th>\n",
              "      <th>se_indicator</th>\n",
              "    </tr>\n",
              "  </thead>\n",
              "  <tbody>\n",
              "    <tr>\n",
              "      <th>0</th>\n",
              "      <td>1.0</td>\n",
              "      <td>114.75</td>\n",
              "      <td>1</td>\n",
              "    </tr>\n",
              "    <tr>\n",
              "      <th>1</th>\n",
              "      <td>1.0</td>\n",
              "      <td>135.00</td>\n",
              "      <td>0</td>\n",
              "    </tr>\n",
              "    <tr>\n",
              "      <th>2</th>\n",
              "      <td>1.0</td>\n",
              "      <td>135.00</td>\n",
              "      <td>0</td>\n",
              "    </tr>\n",
              "    <tr>\n",
              "      <th>3</th>\n",
              "      <td>1.0</td>\n",
              "      <td>135.00</td>\n",
              "      <td>0</td>\n",
              "    </tr>\n",
              "    <tr>\n",
              "      <th>4</th>\n",
              "      <td>1.0</td>\n",
              "      <td>135.00</td>\n",
              "      <td>0</td>\n",
              "    </tr>\n",
              "    <tr>\n",
              "      <th>5</th>\n",
              "      <td>1.0</td>\n",
              "      <td>114.75</td>\n",
              "      <td>1</td>\n",
              "    </tr>\n",
              "    <tr>\n",
              "      <th>6</th>\n",
              "      <td>1.0</td>\n",
              "      <td>135.00</td>\n",
              "      <td>0</td>\n",
              "    </tr>\n",
              "    <tr>\n",
              "      <th>7</th>\n",
              "      <td>1.0</td>\n",
              "      <td>135.00</td>\n",
              "      <td>0</td>\n",
              "    </tr>\n",
              "    <tr>\n",
              "      <th>8</th>\n",
              "      <td>1.0</td>\n",
              "      <td>135.00</td>\n",
              "      <td>0</td>\n",
              "    </tr>\n",
              "    <tr>\n",
              "      <th>9</th>\n",
              "      <td>1.0</td>\n",
              "      <td>114.75</td>\n",
              "      <td>0</td>\n",
              "    </tr>\n",
              "    <tr>\n",
              "      <th>10</th>\n",
              "      <td>1.0</td>\n",
              "      <td>135.00</td>\n",
              "      <td>0</td>\n",
              "    </tr>\n",
              "    <tr>\n",
              "      <th>11</th>\n",
              "      <td>1.0</td>\n",
              "      <td>135.00</td>\n",
              "      <td>0</td>\n",
              "    </tr>\n",
              "    <tr>\n",
              "      <th>12</th>\n",
              "      <td>1.0</td>\n",
              "      <td>135.00</td>\n",
              "      <td>0</td>\n",
              "    </tr>\n",
              "    <tr>\n",
              "      <th>13</th>\n",
              "      <td>1.0</td>\n",
              "      <td>135.00</td>\n",
              "      <td>0</td>\n",
              "    </tr>\n",
              "    <tr>\n",
              "      <th>14</th>\n",
              "      <td>1.0</td>\n",
              "      <td>101.25</td>\n",
              "      <td>1</td>\n",
              "    </tr>\n",
              "    <tr>\n",
              "      <th>15</th>\n",
              "      <td>1.0</td>\n",
              "      <td>135.00</td>\n",
              "      <td>0</td>\n",
              "    </tr>\n",
              "    <tr>\n",
              "      <th>16</th>\n",
              "      <td>1.0</td>\n",
              "      <td>135.00</td>\n",
              "      <td>0</td>\n",
              "    </tr>\n",
              "    <tr>\n",
              "      <th>17</th>\n",
              "      <td>1.0</td>\n",
              "      <td>135.00</td>\n",
              "      <td>0</td>\n",
              "    </tr>\n",
              "    <tr>\n",
              "      <th>18</th>\n",
              "      <td>1.0</td>\n",
              "      <td>135.00</td>\n",
              "      <td>0</td>\n",
              "    </tr>\n",
              "    <tr>\n",
              "      <th>19</th>\n",
              "      <td>1.0</td>\n",
              "      <td>101.25</td>\n",
              "      <td>1</td>\n",
              "    </tr>\n",
              "    <tr>\n",
              "      <th>20</th>\n",
              "      <td>1.0</td>\n",
              "      <td>135.00</td>\n",
              "      <td>0</td>\n",
              "    </tr>\n",
              "    <tr>\n",
              "      <th>21</th>\n",
              "      <td>1.0</td>\n",
              "      <td>135.00</td>\n",
              "      <td>0</td>\n",
              "    </tr>\n",
              "    <tr>\n",
              "      <th>22</th>\n",
              "      <td>1.0</td>\n",
              "      <td>135.00</td>\n",
              "      <td>0</td>\n",
              "    </tr>\n",
              "    <tr>\n",
              "      <th>23</th>\n",
              "      <td>1.0</td>\n",
              "      <td>101.25</td>\n",
              "      <td>0</td>\n",
              "    </tr>\n",
              "    <tr>\n",
              "      <th>24</th>\n",
              "      <td>1.0</td>\n",
              "      <td>135.00</td>\n",
              "      <td>0</td>\n",
              "    </tr>\n",
              "    <tr>\n",
              "      <th>25</th>\n",
              "      <td>1.0</td>\n",
              "      <td>135.00</td>\n",
              "      <td>0</td>\n",
              "    </tr>\n",
              "  </tbody>\n",
              "</table>\n",
              "</div>\n",
              "      <button class=\"colab-df-convert\" onclick=\"convertToInteractive('df-1f73cf36-79c7-4150-82d8-57abfbef4dd9')\"\n",
              "              title=\"Convert this dataframe to an interactive table.\"\n",
              "              style=\"display:none;\">\n",
              "        \n",
              "  <svg xmlns=\"http://www.w3.org/2000/svg\" height=\"24px\"viewBox=\"0 0 24 24\"\n",
              "       width=\"24px\">\n",
              "    <path d=\"M0 0h24v24H0V0z\" fill=\"none\"/>\n",
              "    <path d=\"M18.56 5.44l.94 2.06.94-2.06 2.06-.94-2.06-.94-.94-2.06-.94 2.06-2.06.94zm-11 1L8.5 8.5l.94-2.06 2.06-.94-2.06-.94L8.5 2.5l-.94 2.06-2.06.94zm10 10l.94 2.06.94-2.06 2.06-.94-2.06-.94-.94-2.06-.94 2.06-2.06.94z\"/><path d=\"M17.41 7.96l-1.37-1.37c-.4-.4-.92-.59-1.43-.59-.52 0-1.04.2-1.43.59L10.3 9.45l-7.72 7.72c-.78.78-.78 2.05 0 2.83L4 21.41c.39.39.9.59 1.41.59.51 0 1.02-.2 1.41-.59l7.78-7.78 2.81-2.81c.8-.78.8-2.07 0-2.86zM5.41 20L4 18.59l7.72-7.72 1.47 1.35L5.41 20z\"/>\n",
              "  </svg>\n",
              "      </button>\n",
              "      \n",
              "  <style>\n",
              "    .colab-df-container {\n",
              "      display:flex;\n",
              "      flex-wrap:wrap;\n",
              "      gap: 12px;\n",
              "    }\n",
              "\n",
              "    .colab-df-convert {\n",
              "      background-color: #E8F0FE;\n",
              "      border: none;\n",
              "      border-radius: 50%;\n",
              "      cursor: pointer;\n",
              "      display: none;\n",
              "      fill: #1967D2;\n",
              "      height: 32px;\n",
              "      padding: 0 0 0 0;\n",
              "      width: 32px;\n",
              "    }\n",
              "\n",
              "    .colab-df-convert:hover {\n",
              "      background-color: #E2EBFA;\n",
              "      box-shadow: 0px 1px 2px rgba(60, 64, 67, 0.3), 0px 1px 3px 1px rgba(60, 64, 67, 0.15);\n",
              "      fill: #174EA6;\n",
              "    }\n",
              "\n",
              "    [theme=dark] .colab-df-convert {\n",
              "      background-color: #3B4455;\n",
              "      fill: #D2E3FC;\n",
              "    }\n",
              "\n",
              "    [theme=dark] .colab-df-convert:hover {\n",
              "      background-color: #434B5C;\n",
              "      box-shadow: 0px 1px 3px 1px rgba(0, 0, 0, 0.15);\n",
              "      filter: drop-shadow(0px 1px 2px rgba(0, 0, 0, 0.3));\n",
              "      fill: #FFFFFF;\n",
              "    }\n",
              "  </style>\n",
              "\n",
              "      <script>\n",
              "        const buttonEl =\n",
              "          document.querySelector('#df-1f73cf36-79c7-4150-82d8-57abfbef4dd9 button.colab-df-convert');\n",
              "        buttonEl.style.display =\n",
              "          google.colab.kernel.accessAllowed ? 'block' : 'none';\n",
              "\n",
              "        async function convertToInteractive(key) {\n",
              "          const element = document.querySelector('#df-1f73cf36-79c7-4150-82d8-57abfbef4dd9');\n",
              "          const dataTable =\n",
              "            await google.colab.kernel.invokeFunction('convertToInteractive',\n",
              "                                                     [key], {});\n",
              "          if (!dataTable) return;\n",
              "\n",
              "          const docLinkHtml = 'Like what you see? Visit the ' +\n",
              "            '<a target=\"_blank\" href=https://colab.research.google.com/notebooks/data_table.ipynb>data table notebook</a>'\n",
              "            + ' to learn more about interactive tables.';\n",
              "          element.innerHTML = '';\n",
              "          dataTable['output_type'] = 'display_data';\n",
              "          await google.colab.output.renderOutput(dataTable, element);\n",
              "          const docLink = document.createElement('div');\n",
              "          docLink.innerHTML = docLinkHtml;\n",
              "          element.appendChild(docLink);\n",
              "        }\n",
              "      </script>\n",
              "    </div>\n",
              "  </div>\n",
              "  "
            ]
          },
          "metadata": {},
          "execution_count": 92
        }
      ]
    },
    {
      "cell_type": "code",
      "source": [
        "# fit the OLS model\n",
        "olsjeans_1 = sm.OLS(dfjeans.sales, X1).fit()"
      ],
      "metadata": {
        "id": "Sqp_VFcoLaF1"
      },
      "execution_count": 93,
      "outputs": []
    },
    {
      "cell_type": "code",
      "source": [
        "# results summary\n",
        "# 96.3% of variance in dependent varibale could be explained by two independent varibales\n",
        "# both coefficients of indicators are significant different at 5% level\n",
        "olsjeans_1.summary()"
      ],
      "metadata": {
        "colab": {
          "base_uri": "https://localhost:8080/",
          "height": 507
        },
        "id": "SVYFbHnnLfL5",
        "outputId": "ff19bc7f-6303-409b-ce34-05185301ec20"
      },
      "execution_count": 94,
      "outputs": [
        {
          "output_type": "execute_result",
          "data": {
            "text/plain": [
              "<class 'statsmodels.iolib.summary.Summary'>\n",
              "\"\"\"\n",
              "                            OLS Regression Results                            \n",
              "==============================================================================\n",
              "Dep. Variable:                  sales   R-squared:                       0.963\n",
              "Model:                            OLS   Adj. R-squared:                  0.959\n",
              "Method:                 Least Squares   F-statistic:                     295.4\n",
              "Date:                Wed, 30 Mar 2022   Prob (F-statistic):           3.96e-17\n",
              "Time:                        05:20:05   Log-Likelihood:                -102.28\n",
              "No. Observations:                  26   AIC:                             210.6\n",
              "Df Residuals:                      23   BIC:                             214.3\n",
              "Df Model:                           2                                         \n",
              "Covariance Type:            nonrobust                                         \n",
              "================================================================================\n",
              "                   coef    std err          t      P>|t|      [0.025      0.975]\n",
              "--------------------------------------------------------------------------------\n",
              "const          509.0259     43.675     11.655      0.000     418.677     599.375\n",
              "price           -3.3287      0.329    -10.123      0.000      -4.009      -2.648\n",
              "se_indicator    76.2267     10.781      7.071      0.000      53.925      98.528\n",
              "==============================================================================\n",
              "Omnibus:                        1.399   Durbin-Watson:                   1.189\n",
              "Prob(Omnibus):                  0.497   Jarque-Bera (JB):                1.214\n",
              "Skew:                           0.367   Prob(JB):                        0.545\n",
              "Kurtosis:                       2.237   Cond. No.                     2.23e+03\n",
              "==============================================================================\n",
              "\n",
              "Warnings:\n",
              "[1] Standard Errors assume that the covariance matrix of the errors is correctly specified.\n",
              "[2] The condition number is large, 2.23e+03. This might indicate that there are\n",
              "strong multicollinearity or other numerical problems.\n",
              "\"\"\""
            ],
            "text/html": [
              "<table class=\"simpletable\">\n",
              "<caption>OLS Regression Results</caption>\n",
              "<tr>\n",
              "  <th>Dep. Variable:</th>          <td>sales</td>      <th>  R-squared:         </th> <td>   0.963</td>\n",
              "</tr>\n",
              "<tr>\n",
              "  <th>Model:</th>                   <td>OLS</td>       <th>  Adj. R-squared:    </th> <td>   0.959</td>\n",
              "</tr>\n",
              "<tr>\n",
              "  <th>Method:</th>             <td>Least Squares</td>  <th>  F-statistic:       </th> <td>   295.4</td>\n",
              "</tr>\n",
              "<tr>\n",
              "  <th>Date:</th>             <td>Wed, 30 Mar 2022</td> <th>  Prob (F-statistic):</th> <td>3.96e-17</td>\n",
              "</tr>\n",
              "<tr>\n",
              "  <th>Time:</th>                 <td>05:20:05</td>     <th>  Log-Likelihood:    </th> <td> -102.28</td>\n",
              "</tr>\n",
              "<tr>\n",
              "  <th>No. Observations:</th>      <td>    26</td>      <th>  AIC:               </th> <td>   210.6</td>\n",
              "</tr>\n",
              "<tr>\n",
              "  <th>Df Residuals:</th>          <td>    23</td>      <th>  BIC:               </th> <td>   214.3</td>\n",
              "</tr>\n",
              "<tr>\n",
              "  <th>Df Model:</th>              <td>     2</td>      <th>                     </th>     <td> </td>   \n",
              "</tr>\n",
              "<tr>\n",
              "  <th>Covariance Type:</th>      <td>nonrobust</td>    <th>                     </th>     <td> </td>   \n",
              "</tr>\n",
              "</table>\n",
              "<table class=\"simpletable\">\n",
              "<tr>\n",
              "        <td></td>          <th>coef</th>     <th>std err</th>      <th>t</th>      <th>P>|t|</th>  <th>[0.025</th>    <th>0.975]</th>  \n",
              "</tr>\n",
              "<tr>\n",
              "  <th>const</th>        <td>  509.0259</td> <td>   43.675</td> <td>   11.655</td> <td> 0.000</td> <td>  418.677</td> <td>  599.375</td>\n",
              "</tr>\n",
              "<tr>\n",
              "  <th>price</th>        <td>   -3.3287</td> <td>    0.329</td> <td>  -10.123</td> <td> 0.000</td> <td>   -4.009</td> <td>   -2.648</td>\n",
              "</tr>\n",
              "<tr>\n",
              "  <th>se_indicator</th> <td>   76.2267</td> <td>   10.781</td> <td>    7.071</td> <td> 0.000</td> <td>   53.925</td> <td>   98.528</td>\n",
              "</tr>\n",
              "</table>\n",
              "<table class=\"simpletable\">\n",
              "<tr>\n",
              "  <th>Omnibus:</th>       <td> 1.399</td> <th>  Durbin-Watson:     </th> <td>   1.189</td>\n",
              "</tr>\n",
              "<tr>\n",
              "  <th>Prob(Omnibus):</th> <td> 0.497</td> <th>  Jarque-Bera (JB):  </th> <td>   1.214</td>\n",
              "</tr>\n",
              "<tr>\n",
              "  <th>Skew:</th>          <td> 0.367</td> <th>  Prob(JB):          </th> <td>   0.545</td>\n",
              "</tr>\n",
              "<tr>\n",
              "  <th>Kurtosis:</th>      <td> 2.237</td> <th>  Cond. No.          </th> <td>2.23e+03</td>\n",
              "</tr>\n",
              "</table><br/><br/>Warnings:<br/>[1] Standard Errors assume that the covariance matrix of the errors is correctly specified.<br/>[2] The condition number is large, 2.23e+03. This might indicate that there are<br/>strong multicollinearity or other numerical problems."
            ]
          },
          "metadata": {},
          "execution_count": 94
        }
      ]
    },
    {
      "cell_type": "code",
      "source": [
        "# store residuals of the fit \n",
        "dfjeans[\"residual_1\"] = olsjeans_1.resid"
      ],
      "metadata": {
        "id": "lgj_TruBLhOW"
      },
      "execution_count": 95,
      "outputs": []
    },
    {
      "cell_type": "code",
      "source": [
        "# plot residual against week\n",
        "dfjeans.plot.scatter(x=\"week\",y=\"residual_1\")\n",
        "plt.show()"
      ],
      "metadata": {
        "id": "Ll6BfkR_Lo2G",
        "colab": {
          "base_uri": "https://localhost:8080/",
          "height": 279
        },
        "outputId": "25c12240-2376-4dde-f685-37c07a2c00ba"
      },
      "execution_count": 96,
      "outputs": [
        {
          "output_type": "display_data",
          "data": {
            "text/plain": [
              "<Figure size 432x288 with 1 Axes>"
            ],
            "image/png": "[encoded data removed]"
          },
          "metadata": {
            "needs_background": "light"
          }
        }
      ]
    },
    {
      "cell_type": "markdown",
      "source": [
        "### **Sales Prediction**: 219 pairs of jeans\n",
        "\n",
        "- The sales prediction for next week are 219 pairs of jeans\n",
        "\n",
        "\n",
        "\n"
      ],
      "metadata": {
        "id": "HWatbi9qLkwK"
      }
    },
    {
      "cell_type": "code",
      "source": [
        "# predict sales for a week in the future\n",
        "Xnew = np.array([1,110,1])\n",
        "olsjeans_1.predict(Xnew)[0]"
      ],
      "metadata": {
        "colab": {
          "base_uri": "https://localhost:8080/"
        },
        "id": "NBNrVtTjPUXi",
        "outputId": "16b6f110-5ece-4af0-ab89-c230e304cdd1"
      },
      "execution_count": 97,
      "outputs": [
        {
          "output_type": "execute_result",
          "data": {
            "text/plain": [
              "219.09254461715582"
            ]
          },
          "metadata": {},
          "execution_count": 97
        }
      ]
    },
    {
      "cell_type": "code",
      "source": [
        "print('The sales prediction for next week are {} pairs of jeans'.format(round(olsjeans_1.predict(Xnew)[0])))"
      ],
      "metadata": {
        "colab": {
          "base_uri": "https://localhost:8080/"
        },
        "id": "2yHSG_hGOArw",
        "outputId": "06a6364e-2fe0-4138-cb51-06ee289051cd"
      },
      "execution_count": 98,
      "outputs": [
        {
          "output_type": "stream",
          "name": "stdout",
          "text": [
            "The sales prediction for next week are 219 pairs of jeans\n"
          ]
        }
      ]
    },
    {
      "cell_type": "markdown",
      "source": [
        "# **Model II**: Price (as a % discount off original price) and special event indicator as an independent variable"
      ],
      "metadata": {
        "id": "vatJb60CSZpm"
      }
    },
    {
      "cell_type": "code",
      "source": [
        "# add a new column % discount variable\n",
        "dfjeans['discount'] = (1 - dfjeans['price'] / 135)"
      ],
      "metadata": {
        "id": "dgrrsPj-R_SC"
      },
      "execution_count": 99,
      "outputs": []
    },
    {
      "cell_type": "code",
      "source": [
        "# add constant to feature matrix\n",
        "X2 = sm.add_constant(dfjeans[[\"discount\",\"se_indicator\"]])"
      ],
      "metadata": {
        "colab": {
          "base_uri": "https://localhost:8080/"
        },
        "id": "DAtdhDDSR2RE",
        "outputId": "5785e5a6-26d7-46c5-d29e-f1ff2bd6aa41"
      },
      "execution_count": 100,
      "outputs": [
        {
          "output_type": "stream",
          "name": "stderr",
          "text": [
            "/usr/local/lib/python3.7/dist-packages/statsmodels/tsa/tsatools.py:117: FutureWarning: In a future version of pandas all arguments of concat except for the argument 'objs' will be keyword-only\n",
            "  x = pd.concat(x[::order], 1)\n"
          ]
        }
      ]
    },
    {
      "cell_type": "code",
      "source": [
        "# fit the OLS model\n",
        "olsjeans_2 = sm.OLS(dfjeans.sales, X2).fit()"
      ],
      "metadata": {
        "id": "pqCptKk8R2RE"
      },
      "execution_count": 101,
      "outputs": []
    },
    {
      "cell_type": "code",
      "source": [
        "# results summary\n",
        "# 96.3% of variance in dependent varibale could be explained by two independent varibales\n",
        "# both coefficients of indicators are significant different at 5% level\n",
        "olsjeans_2.summary()"
      ],
      "metadata": {
        "colab": {
          "base_uri": "https://localhost:8080/",
          "height": 473
        },
        "id": "bYFuj2OER2RE",
        "outputId": "1159b644-97b9-4f06-9555-8b0ad2bd215d"
      },
      "execution_count": 102,
      "outputs": [
        {
          "output_type": "execute_result",
          "data": {
            "text/plain": [
              "<class 'statsmodels.iolib.summary.Summary'>\n",
              "\"\"\"\n",
              "                            OLS Regression Results                            \n",
              "==============================================================================\n",
              "Dep. Variable:                  sales   R-squared:                       0.963\n",
              "Model:                            OLS   Adj. R-squared:                  0.959\n",
              "Method:                 Least Squares   F-statistic:                     295.4\n",
              "Date:                Wed, 30 Mar 2022   Prob (F-statistic):           3.96e-17\n",
              "Time:                        05:20:06   Log-Likelihood:                -102.28\n",
              "No. Observations:                  26   AIC:                             210.6\n",
              "Df Residuals:                      23   BIC:                             214.3\n",
              "Df Model:                           2                                         \n",
              "Covariance Type:            nonrobust                                         \n",
              "================================================================================\n",
              "                   coef    std err          t      P>|t|      [0.025      0.975]\n",
              "--------------------------------------------------------------------------------\n",
              "const           59.6477      2.917     20.447      0.000      53.613      65.682\n",
              "discount       449.3782     44.392     10.123      0.000     357.546     541.211\n",
              "se_indicator    76.2267     10.781      7.071      0.000      53.925      98.528\n",
              "==============================================================================\n",
              "Omnibus:                        1.399   Durbin-Watson:                   1.189\n",
              "Prob(Omnibus):                  0.497   Jarque-Bera (JB):                1.214\n",
              "Skew:                           0.367   Prob(JB):                        0.545\n",
              "Kurtosis:                       2.237   Cond. No.                         17.8\n",
              "==============================================================================\n",
              "\n",
              "Warnings:\n",
              "[1] Standard Errors assume that the covariance matrix of the errors is correctly specified.\n",
              "\"\"\""
            ],
            "text/html": [
              "<table class=\"simpletable\">\n",
              "<caption>OLS Regression Results</caption>\n",
              "<tr>\n",
              "  <th>Dep. Variable:</th>          <td>sales</td>      <th>  R-squared:         </th> <td>   0.963</td>\n",
              "</tr>\n",
              "<tr>\n",
              "  <th>Model:</th>                   <td>OLS</td>       <th>  Adj. R-squared:    </th> <td>   0.959</td>\n",
              "</tr>\n",
              "<tr>\n",
              "  <th>Method:</th>             <td>Least Squares</td>  <th>  F-statistic:       </th> <td>   295.4</td>\n",
              "</tr>\n",
              "<tr>\n",
              "  <th>Date:</th>             <td>Wed, 30 Mar 2022</td> <th>  Prob (F-statistic):</th> <td>3.96e-17</td>\n",
              "</tr>\n",
              "<tr>\n",
              "  <th>Time:</th>                 <td>05:20:06</td>     <th>  Log-Likelihood:    </th> <td> -102.28</td>\n",
              "</tr>\n",
              "<tr>\n",
              "  <th>No. Observations:</th>      <td>    26</td>      <th>  AIC:               </th> <td>   210.6</td>\n",
              "</tr>\n",
              "<tr>\n",
              "  <th>Df Residuals:</th>          <td>    23</td>      <th>  BIC:               </th> <td>   214.3</td>\n",
              "</tr>\n",
              "<tr>\n",
              "  <th>Df Model:</th>              <td>     2</td>      <th>                     </th>     <td> </td>   \n",
              "</tr>\n",
              "<tr>\n",
              "  <th>Covariance Type:</th>      <td>nonrobust</td>    <th>                     </th>     <td> </td>   \n",
              "</tr>\n",
              "</table>\n",
              "<table class=\"simpletable\">\n",
              "<tr>\n",
              "        <td></td>          <th>coef</th>     <th>std err</th>      <th>t</th>      <th>P>|t|</th>  <th>[0.025</th>    <th>0.975]</th>  \n",
              "</tr>\n",
              "<tr>\n",
              "  <th>const</th>        <td>   59.6477</td> <td>    2.917</td> <td>   20.447</td> <td> 0.000</td> <td>   53.613</td> <td>   65.682</td>\n",
              "</tr>\n",
              "<tr>\n",
              "  <th>discount</th>     <td>  449.3782</td> <td>   44.392</td> <td>   10.123</td> <td> 0.000</td> <td>  357.546</td> <td>  541.211</td>\n",
              "</tr>\n",
              "<tr>\n",
              "  <th>se_indicator</th> <td>   76.2267</td> <td>   10.781</td> <td>    7.071</td> <td> 0.000</td> <td>   53.925</td> <td>   98.528</td>\n",
              "</tr>\n",
              "</table>\n",
              "<table class=\"simpletable\">\n",
              "<tr>\n",
              "  <th>Omnibus:</th>       <td> 1.399</td> <th>  Durbin-Watson:     </th> <td>   1.189</td>\n",
              "</tr>\n",
              "<tr>\n",
              "  <th>Prob(Omnibus):</th> <td> 0.497</td> <th>  Jarque-Bera (JB):  </th> <td>   1.214</td>\n",
              "</tr>\n",
              "<tr>\n",
              "  <th>Skew:</th>          <td> 0.367</td> <th>  Prob(JB):          </th> <td>   0.545</td>\n",
              "</tr>\n",
              "<tr>\n",
              "  <th>Kurtosis:</th>      <td> 2.237</td> <th>  Cond. No.          </th> <td>    17.8</td>\n",
              "</tr>\n",
              "</table><br/><br/>Warnings:<br/>[1] Standard Errors assume that the covariance matrix of the errors is correctly specified."
            ]
          },
          "metadata": {},
          "execution_count": 102
        }
      ]
    },
    {
      "cell_type": "code",
      "source": [
        "# store residuals of the fit \n",
        "dfjeans[\"residual_2\"] = olsjeans_2.resid"
      ],
      "metadata": {
        "id": "akYQyk5ZR2RE"
      },
      "execution_count": 103,
      "outputs": []
    },
    {
      "cell_type": "code",
      "source": [
        "# plot residual against week\n",
        "dfjeans.plot.scatter(x=\"week\",y=\"residual_2\")\n",
        "plt.show()"
      ],
      "metadata": {
        "id": "5l6Zq9boR2RE",
        "colab": {
          "base_uri": "https://localhost:8080/",
          "height": 279
        },
        "outputId": "8b3f492d-18c0-45a9-aa80-9b9596f6f058"
      },
      "execution_count": 104,
      "outputs": [
        {
          "output_type": "display_data",
          "data": {
            "text/plain": [
              "<Figure size 432x288 with 1 Axes>"
            ],
            "image/png": "[encoded data removed]"
          },
          "metadata": {
            "needs_background": "light"
          }
        }
      ]
    },
    {
      "cell_type": "markdown",
      "source": [
        "### **Prediction**: 219 pairs of jeans\n",
        "\n",
        "- The sales prediction for next week are 219 pairs of jeans"
      ],
      "metadata": {
        "id": "7nNFzZsUNWJQ"
      }
    },
    {
      "cell_type": "code",
      "source": [
        "# predict sales for a week in the future\n",
        "discount_new_week = round((1 - 110 / 135),3)\n",
        "Xnew = np.array([1,discount_new_week,1])\n",
        "olsjeans_2.predict(Xnew)[0]"
      ],
      "metadata": {
        "colab": {
          "base_uri": "https://localhost:8080/"
        },
        "outputId": "eb2033bc-96c4-472f-b267-375e6d95f442",
        "id": "qOrMKxIQR2RE"
      },
      "execution_count": 105,
      "outputs": [
        {
          "output_type": "execute_result",
          "data": {
            "text/plain": [
              "219.0093264248705"
            ]
          },
          "metadata": {},
          "execution_count": 105
        }
      ]
    },
    {
      "cell_type": "code",
      "source": [
        "print('The sales prediction for next week are {} pairs of jeans'.format(round(olsjeans_2.predict(Xnew)[0])))"
      ],
      "metadata": {
        "colab": {
          "base_uri": "https://localhost:8080/"
        },
        "id": "UYwyp0OONcsx",
        "outputId": "83edd8a9-3fdd-4056-aabf-ae3d22ee17ca"
      },
      "execution_count": 106,
      "outputs": [
        {
          "output_type": "stream",
          "name": "stdout",
          "text": [
            "The sales prediction for next week are 219 pairs of jeans\n"
          ]
        }
      ]
    },
    {
      "cell_type": "markdown",
      "source": [
        "#**Conclusion**\n",
        "\n",
        "Both Models result in almost the same prediction of sales around 219 pairs of jeans. The only difference between two models is that we only replace the 'price' variable with the 'discount' variable and keep others same. In fact, the 'discount' variable is another repsentation of the 'price' variable via the formula: `1 - New Price / Original Price`, which means that the relationships among the discount prices are still the same. Therefore, the prediction results are same for both models."
      ],
      "metadata": {
        "id": "rFtjxLHcOOry"
      }
    }
  ]
}