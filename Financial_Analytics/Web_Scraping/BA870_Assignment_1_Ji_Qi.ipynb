{
 "cells": [
  {
   "cell_type": "markdown",
   "metadata": {
    "id": "GGcvKfXnbtEo"
   },
   "source": [
    "# ***Name: Ji Qi*** , ***Session B1***\n",
    "\n",
    "\n"
   ]
  },
  {
   "cell_type": "markdown",
   "metadata": {
    "id": "egJjndlT55eg"
   },
   "source": [
    "\n",
    "# Income Statement data for Apple Inc (AAPL) for the years 2021, 2020 and 2019.\n",
    "\n",
    "* Consolidated Statement of Operations\n",
    "* The SEC URL for this information for Apple is:\n",
    "https://www.sec.gov/Archives/edgar/data/320193/000032019321000105/R2.htm\n"
   ]
  },
  {
   "cell_type": "markdown",
   "metadata": {
    "id": "fdg_kQYJpRVa"
   },
   "source": [
    "## Install required libraries"
   ]
  },
  {
   "cell_type": "code",
   "execution_count": null,
   "metadata": {
    "colab": {
     "base_uri": "https://localhost:8080/"
    },
    "id": "OxMhkvTigKxY",
    "outputId": "90676fc1-620d-4baf-abaa-a92e7b435cd2"
   },
   "outputs": [
    {
     "name": "stdout",
     "output_type": "stream",
     "text": [
      "Requirement already satisfied: requests in /usr/local/lib/python3.7/dist-packages (2.23.0)\n",
      "Requirement already satisfied: idna<3,>=2.5 in /usr/local/lib/python3.7/dist-packages (from requests) (2.10)\n",
      "Requirement already satisfied: urllib3!=1.25.0,!=1.25.1,<1.26,>=1.21.1 in /usr/local/lib/python3.7/dist-packages (from requests) (1.24.3)\n",
      "Requirement already satisfied: chardet<4,>=3.0.2 in /usr/local/lib/python3.7/dist-packages (from requests) (3.0.4)\n",
      "Requirement already satisfied: certifi>=2017.4.17 in /usr/local/lib/python3.7/dist-packages (from requests) (2021.10.8)\n",
      "Requirement already satisfied: beautifulsoup4 in /usr/local/lib/python3.7/dist-packages (4.6.3)\n"
     ]
    }
   ],
   "source": [
    "# Install necessary Python libraries\n",
    "! pip install requests\n",
    "! pip install beautifulsoup4"
   ]
  },
  {
   "cell_type": "markdown",
   "metadata": {
    "id": "zJwynUnMblhC"
   },
   "source": [
    "## Use the \"requests\" library to download the necessary webpage from the SEC server. "
   ]
  },
  {
   "cell_type": "code",
   "execution_count": null,
   "metadata": {
    "id": "A0oAXWeUYp3Q"
   },
   "outputs": [],
   "source": [
    "import requests\n",
    "\n",
    "# This header information MUST be submitted with your URL reuqest to the SEC website.\n",
    "# If this header is not included or is incorrect, then you will not be abkle to download the data (it will be rejected by the SEC server).\n",
    "\n",
    "heads = {'Host': 'www.sec.gov', 'Connection': 'close',\n",
    "         'Accept': 'application/json, text/javascript, */*; q=0.01', 'X-Requested-With': 'XMLHttpRequest',\n",
    "         'User-Agent': 'ji97@bu.edu'\n",
    "         }\n",
    "\n",
    "URL = 'https://www.sec.gov/Archives/edgar/data/320193/000032019321000105/R2.htm' # Find the specific URL that I need to scrape\n",
    "\n",
    "# Get data from webpage\n",
    "page = requests.get(URL, headers=heads)\n"
   ]
  },
  {
   "cell_type": "markdown",
   "metadata": {
    "id": "zZZx5LgUZ-fe"
   },
   "source": [
    "## Use \"Beautiful Soup\" Library to implement an \"html/xml parser\"\n",
    "\n",
    "Here is the link to the documentation:\n",
    "https://www.crummy.com/software/BeautifulSoup/bs4/doc/\n",
    "\n",
    "In this example we will download the Income Statement for Apple Inc. (AAPL) from the sec website.\n"
   ]
  },
  {
   "cell_type": "code",
   "execution_count": null,
   "metadata": {
    "id": "oTJYzZZEf_ty"
   },
   "outputs": [],
   "source": [
    "from bs4 import BeautifulSoup\n",
    "\n",
    "soup = BeautifulSoup(page.content, 'lxml')\n"
   ]
  },
  {
   "cell_type": "code",
   "execution_count": null,
   "metadata": {
    "id": "jsireNJ7a1mS"
   },
   "outputs": [],
   "source": [
    "# The Prettify function formats that html/xml text to make it easier to read.\n",
    "# You would inspect the html code to find marker tags that identifies the specific section of text you wish to extract.\n",
    "print(soup.prettify())"
   ]
  },
  {
   "cell_type": "markdown",
   "metadata": {
    "id": "BHvh8xY1bzqG"
   },
   "source": [
    "## The Next Step is to Find the HTML Tags\n",
    "- The tag  ***\\<td class=\"nump\"\\>*** precedes any reported numbers AAPL's financial statements "
   ]
  },
  {
   "cell_type": "code",
   "execution_count": null,
   "metadata": {
    "id": "eib_pbYSgrhh"
   },
   "outputs": [],
   "source": [
    "# Find the tag that identify numbers from Apple's Income Statement \n",
    "# Extract numbers from AAPL's financial statements using HTML marker: <td class=\"nump\">\n",
    "Numbers = soup.find_all ('td', class_='nump')"
   ]
  },
  {
   "cell_type": "markdown",
   "metadata": {
    "id": "-qtSoVwHdxGX"
   },
   "source": [
    "## Print out the scraped Numbers that had the class tag \"nump\" from  Apple's Income Statement "
   ]
  },
  {
   "cell_type": "code",
   "execution_count": null,
   "metadata": {
    "colab": {
     "base_uri": "https://localhost:8080/"
    },
    "id": "mUn_U8a5qrul",
    "outputId": "b2e2ffbe-d94b-42cb-e064-e21842365fa6"
   },
   "outputs": [
    {
     "name": "stdout",
     "output_type": "stream",
     "text": [
      "[<td class=\"nump\">$ 365,817<span></span>\n",
      "</td>, <td class=\"nump\">$ 274,515<span></span>\n",
      "</td>, <td class=\"nump\">$ 260,174<span></span>\n",
      "</td>, <td class=\"nump\">212,981<span></span>\n",
      "</td>, <td class=\"nump\">169,559<span></span>\n",
      "</td>, <td class=\"nump\">161,782<span></span>\n",
      "</td>, <td class=\"nump\">152,836<span></span>\n",
      "</td>, <td class=\"nump\">104,956<span></span>\n",
      "</td>, <td class=\"nump\">98,392<span></span>\n",
      "</td>, <td class=\"nump\">21,914<span></span>\n",
      "</td>, <td class=\"nump\">18,752<span></span>\n",
      "</td>, <td class=\"nump\">16,217<span></span>\n",
      "</td>, <td class=\"nump\">21,973<span></span>\n",
      "</td>, <td class=\"nump\">19,916<span></span>\n",
      "</td>, <td class=\"nump\">18,245<span></span>\n",
      "</td>, <td class=\"nump\">43,887<span></span>\n",
      "</td>, <td class=\"nump\">38,668<span></span>\n",
      "</td>, <td class=\"nump\">34,462<span></span>\n",
      "</td>, <td class=\"nump\">108,949<span></span>\n",
      "</td>, <td class=\"nump\">66,288<span></span>\n",
      "</td>, <td class=\"nump\">63,930<span></span>\n",
      "</td>, <td class=\"nump\">258<span></span>\n",
      "</td>, <td class=\"nump\">803<span></span>\n",
      "</td>, <td class=\"nump\">1,807<span></span>\n",
      "</td>, <td class=\"nump\">109,207<span></span>\n",
      "</td>, <td class=\"nump\">67,091<span></span>\n",
      "</td>, <td class=\"nump\">65,737<span></span>\n",
      "</td>, <td class=\"nump\">14,527<span></span>\n",
      "</td>, <td class=\"nump\">9,680<span></span>\n",
      "</td>, <td class=\"nump\">10,481<span></span>\n",
      "</td>, <td class=\"nump\">$ 94,680<span></span>\n",
      "</td>, <td class=\"nump\">$ 57,411<span></span>\n",
      "</td>, <td class=\"nump\">$ 55,256<span></span>\n",
      "</td>, <td class=\"nump\">$ 5.67<span></span>\n",
      "</td>, <td class=\"nump\">$ 3.31<span></span>\n",
      "</td>, <td class=\"nump\">$ 2.99<span></span>\n",
      "</td>, <td class=\"nump\">$ 5.61<span></span>\n",
      "</td>, <td class=\"nump\">$ 3.28<span></span>\n",
      "</td>, <td class=\"nump\">$ 2.97<span></span>\n",
      "</td>, <td class=\"nump\">16,701,272<span></span>\n",
      "</td>, <td class=\"nump\">17,352,119<span></span>\n",
      "</td>, <td class=\"nump\">18,471,336<span></span>\n",
      "</td>, <td class=\"nump\">16,864,919<span></span>\n",
      "</td>, <td class=\"nump\">17,528,214<span></span>\n",
      "</td>, <td class=\"nump\">18,595,651<span></span>\n",
      "</td>, <td class=\"nump\">$ 297,392<span></span>\n",
      "</td>, <td class=\"nump\">$ 220,747<span></span>\n",
      "</td>, <td class=\"nump\">$ 213,883<span></span>\n",
      "</td>, <td class=\"nump\">192,266<span></span>\n",
      "</td>, <td class=\"nump\">151,286<span></span>\n",
      "</td>, <td class=\"nump\">144,996<span></span>\n",
      "</td>, <td class=\"nump\">68,425<span></span>\n",
      "</td>, <td class=\"nump\">53,768<span></span>\n",
      "</td>, <td class=\"nump\">46,291<span></span>\n",
      "</td>, <td class=\"nump\">$ 20,715<span></span>\n",
      "</td>, <td class=\"nump\">$ 18,273<span></span>\n",
      "</td>, <td class=\"nump\">$ 16,786<span></span>\n",
      "</td>]\n"
     ]
    }
   ],
   "source": [
    "print(Numbers)"
   ]
  },
  {
   "cell_type": "markdown",
   "metadata": {
    "id": "ByffjJ_3w1j1"
   },
   "source": [
    "## Clean & Merge Data and Return the Income Statement DataFrame"
   ]
  },
  {
   "cell_type": "code",
   "execution_count": null,
   "metadata": {
    "colab": {
     "base_uri": "https://localhost:8080/"
    },
    "id": "5StJS9m5Ow5I",
    "outputId": "81991975-ec76-40ed-d2fe-1d08e69f53c2"
   },
   "outputs": [
    {
     "name": "stdout",
     "output_type": "stream",
     "text": [
      "                 Income Statement Item for Apple Sep. 25 2021 Sep. 26 2020  \\\n",
      "0                                      Net sales     365817.0     274515.0   \n",
      "1                                  Cost of sales     212981.0     169559.0   \n",
      "2                                   Gross margin     152836.0     104956.0   \n",
      "3                            Operating expenses:          nan          nan   \n",
      "4                       Research and development      21914.0      18752.0   \n",
      "5             Selling general and administrative      21973.0      19916.0   \n",
      "6                       Total operating expenses      43887.0      38668.0   \n",
      "7                               Operating income     108949.0      66288.0   \n",
      "8                     Other income/(expense) net        258.0        803.0   \n",
      "9       Income before provision for income taxes     109207.0      67091.0   \n",
      "10                    Provision for income taxes      14527.0       9680.0   \n",
      "11                                    Net income      94680.0      57411.0   \n",
      "12                           Earnings per share:          nan          nan   \n",
      "13                  Basic (in dollars per share)         5.67         3.31   \n",
      "14                Diluted (in dollars per share)         5.61         3.28   \n",
      "15  Shares used in computing earnings per share:          nan          nan   \n",
      "16                             Basic (in shares)      16701.0      17352.0   \n",
      "17                           Diluted (in shares)      16864.0      17528.0   \n",
      "18                                      Products          nan          nan   \n",
      "19                                     Net sales     297392.0     220747.0   \n",
      "20                                 Cost of sales     192266.0     151286.0   \n",
      "21                                      Services          nan          nan   \n",
      "22                                     Net sales      68425.0      53768.0   \n",
      "23                                 Cost of sales      20715.0      18273.0   \n",
      "\n",
      "   Sep. 28 2019  \n",
      "0      260174.0  \n",
      "1      161782.0  \n",
      "2       98392.0  \n",
      "3           nan  \n",
      "4       16217.0  \n",
      "5       18245.0  \n",
      "6       34462.0  \n",
      "7       63930.0  \n",
      "8        1807.0  \n",
      "9       65737.0  \n",
      "10      10481.0  \n",
      "11      55256.0  \n",
      "12          nan  \n",
      "13         2.99  \n",
      "14         2.97  \n",
      "15          nan  \n",
      "16      18471.0  \n",
      "17      18595.0  \n",
      "18          nan  \n",
      "19     213883.0  \n",
      "20     144996.0  \n",
      "21          nan  \n",
      "22      46291.0  \n",
      "23      16786.0  \n"
     ]
    }
   ],
   "source": [
    "# import regex library to extract only digit numbers from \"the scraped Numbers\"\n",
    "import re\n",
    "l = []\n",
    "for i in Numbers[:]:\n",
    "    x = re.findall(\"([0-9]+.[0-9]+)\", str(i)) # return the string format e.g. \"7.8\" or '887,99'\n",
    "    if x == []: # nothing matched in the first two clauses\n",
    "      x = re.findall(\"([0-9]+)\", str(i)) # return the string format e.g. \"788\"\n",
    " \n",
    "    try:\n",
    "      x = int(x[0].replace(',','')) # for x, replace the ',' with '' and convert 'string' into 'int' \n",
    "    except:\n",
    "      x = float(x[0]) # otherwise, for x, convert 'string' to 'floating point'\n",
    "    l.append(x) # store each number into a list 'l'\n",
    "\n",
    "\n",
    "# import numpy\n",
    "import numpy as np\n",
    "Num = np.round(np.array(l).reshape(int(len(l)/3),3),2) # convert the list 'l' into numpy array 'Num', reshape the array 'Num' into the dimension: 24 X 3, round all numbers to 2 decimal places\n",
    "Num = np.insert(Num, [3,11,13,15,17], np.nan, axis=0 ) # insert 5 rows of Nan values before the row index 3,11,13,15,17\n",
    "\n",
    "\n",
    "# Extract the income statement items using the HTML Tag <a class=\"a\">\n",
    "coln = []\n",
    "for i in range(len(soup.find_all ('a', class_='a'))):\n",
    "  name = str(soup.find_all ('a', class_='a')[i])\n",
    "  name = re.findall('>.+?<',name)[0] # return the string format e.g. \">ABc<\"\n",
    "  name = re.sub('[<,>]','', name) # replace the '<' , ',' , '>' with  ''\n",
    "  name = re.sub('strong','', name) # replace the 'strong' with  ''\n",
    "  coln.append(name) # store each name into a list 'coln'\n",
    "\n",
    "\n",
    "\n",
    "coln = np.array(coln).reshape(24,1) # reshape the coln name into the dimension: 24 X 1\n",
    "coln_Num = np.concatenate((coln, Num), axis=1) # concat 'coln' and 'Num'\n",
    "\n",
    "\n",
    "# Extract the income statement headers using the HTML Tag   <th class=\"th\">\n",
    "header = []\n",
    "for i in range(len(soup.find_all('th', class_='th'))):\n",
    "  name = str(soup.find_all('th', class_='th')[i])\n",
    "  name = re.findall('>.+?<',name)[0] # return the string format e.g. \">ABc<\"\n",
    "  name = re.sub('[<,>]','', name) # replace the '<' , ',' , '>' with  ''\n",
    "  name = re.sub('div','',name) # replace the 'div' with  ''\n",
    "  header.append(name) # store each name into a list 'header'\n",
    "header.pop(0) # exclude the first element '12 Months Ended'\n",
    "header.insert(0,'Income Statement Item for Apple') # insert the 'Income Statement Item for Apple' at the index 0\n",
    "\n",
    "\n",
    "import pandas as pd\n",
    "df_apple = pd.DataFrame(coln_Num, columns = header) # Convert the income statement into DataFrame\n",
    "print(df_apple)"
   ]
  },
  {
   "cell_type": "markdown",
   "metadata": {
    "id": "RlSLOA5R7lje"
   },
   "source": [
    "\n",
    "# Income Statement data for Microsoft (MSFT) for the years 2021, 2020 and 2019.\n",
    "\n",
    "* Consolidated Statement of Operations\n",
    "* The SEC URL for this information for Microsoft is:\n",
    "https://www.sec.gov/Archives/edgar/data/789019/000156459021039151/R2.htm"
   ]
  },
  {
   "cell_type": "markdown",
   "metadata": {
    "id": "aNBPlISdwFs2"
   },
   "source": [
    "## Install required libraries"
   ]
  },
  {
   "cell_type": "code",
   "execution_count": null,
   "metadata": {
    "colab": {
     "base_uri": "https://localhost:8080/"
    },
    "id": "8JVIB6jK7lje",
    "outputId": "352d3f8f-76b7-4888-ac26-4cebddac2831"
   },
   "outputs": [
    {
     "name": "stdout",
     "output_type": "stream",
     "text": [
      "Requirement already satisfied: requests in /usr/local/lib/python3.7/dist-packages (2.23.0)\n",
      "Requirement already satisfied: certifi>=2017.4.17 in /usr/local/lib/python3.7/dist-packages (from requests) (2021.10.8)\n",
      "Requirement already satisfied: urllib3!=1.25.0,!=1.25.1,<1.26,>=1.21.1 in /usr/local/lib/python3.7/dist-packages (from requests) (1.24.3)\n",
      "Requirement already satisfied: chardet<4,>=3.0.2 in /usr/local/lib/python3.7/dist-packages (from requests) (3.0.4)\n",
      "Requirement already satisfied: idna<3,>=2.5 in /usr/local/lib/python3.7/dist-packages (from requests) (2.10)\n",
      "Requirement already satisfied: beautifulsoup4 in /usr/local/lib/python3.7/dist-packages (4.6.3)\n"
     ]
    }
   ],
   "source": [
    "# Install necessary Python libraries\n",
    "! pip install requests\n",
    "! pip install beautifulsoup4"
   ]
  },
  {
   "cell_type": "markdown",
   "metadata": {
    "id": "d302ZFk_7ljf"
   },
   "source": [
    "## Use the \"requests\" library to download the necessary webpage from the SEC server. "
   ]
  },
  {
   "cell_type": "code",
   "execution_count": null,
   "metadata": {
    "id": "QOccOruZ7ljf"
   },
   "outputs": [],
   "source": [
    "import requests\n",
    "\n",
    "# This header information MUST be submitted with your URL reuqest to the SEC website.\n",
    "# If this header is not included or is incorrect, then you will not be abkle to download the data (it will be rejected by the SEC server).\n",
    "\n",
    "heads = {'Host': 'www.sec.gov', 'Connection': 'close',\n",
    "         'Accept': 'application/json, text/javascript, */*; q=0.01', 'X-Requested-With': 'XMLHttpRequest',\n",
    "         'User-Agent': 'ji97@bu.edu'\n",
    "         }\n",
    "\n",
    "URL = 'https://www.sec.gov/Archives/edgar/data/789019/000156459021039151/R2.htm' # Find the specific URL that I need to scrape\n",
    "\n",
    "\n",
    "# Get data from webpage\n",
    "page = requests.get(URL, headers=heads)\n"
   ]
  },
  {
   "cell_type": "markdown",
   "metadata": {
    "id": "rdUi4uzf7ljf"
   },
   "source": [
    "## Use \"Beautiful Soup\" Library to implement an \"html/xml parser\"\n",
    "\n",
    "Here is the link to the documentation:\n",
    "https://www.crummy.com/software/BeautifulSoup/bs4/doc/\n",
    "\n",
    "In this example we will download the Income Statement for Microsoft (MSFT) from the sec website.\n"
   ]
  },
  {
   "cell_type": "code",
   "execution_count": null,
   "metadata": {
    "id": "8BSg6b1V7ljf"
   },
   "outputs": [],
   "source": [
    "from bs4 import BeautifulSoup\n",
    "\n",
    "soup = BeautifulSoup(page.content, 'lxml')\n"
   ]
  },
  {
   "cell_type": "code",
   "execution_count": null,
   "metadata": {
    "id": "NiqqZ01Q7ljf"
   },
   "outputs": [],
   "source": [
    "# The Prettify function formats that html/xml text to make it easier to read.\n",
    "# You would inspect the html code to find marker tags that identifies the specific section of text you wish to extract.\n",
    "print(soup.prettify())"
   ]
  },
  {
   "cell_type": "markdown",
   "metadata": {
    "id": "9Q494xca7ljf"
   },
   "source": [
    "## The Next Step is to Find the HTML Tags\n",
    "- The tag  ***\\<td class=\"nump\"\\>*** precedes any reported numbers Microsoft's financial statements "
   ]
  },
  {
   "cell_type": "code",
   "execution_count": null,
   "metadata": {
    "id": "69cYbXwU7ljf"
   },
   "outputs": [],
   "source": [
    "# Find the tag that identify numbers from Microsoft's Income Statement\n",
    "# Extract numbers from Microsoft's financial statements using HTML marker: <td class=\"nump\"> \n",
    "Numbers = soup.find_all ('td', class_='nump')"
   ]
  },
  {
   "cell_type": "markdown",
   "metadata": {
    "id": "k1Y2oTqf7ljg"
   },
   "source": [
    "## Print out the scraped Numbers that had the class tag \"nump\" from Microsoft's Income Statement "
   ]
  },
  {
   "cell_type": "code",
   "execution_count": null,
   "metadata": {
    "colab": {
     "base_uri": "https://localhost:8080/"
    },
    "id": "EFTfm8Yi-Ld7",
    "outputId": "cba35212-5ed6-492c-cd72-57e513eb0a0b"
   },
   "outputs": [
    {
     "name": "stdout",
     "output_type": "stream",
     "text": [
      "[<td class=\"nump\">$ 168,088<span></span>\n",
      "</td>, <td class=\"nump\">$ 143,015<span></span>\n",
      "</td>, <td class=\"nump\">$ 125,843<span></span>\n",
      "</td>, <td class=\"nump\">52,232<span></span>\n",
      "</td>, <td class=\"nump\">46,078<span></span>\n",
      "</td>, <td class=\"nump\">42,910<span></span>\n",
      "</td>, <td class=\"nump\">115,856<span></span>\n",
      "</td>, <td class=\"nump\">96,937<span></span>\n",
      "</td>, <td class=\"nump\">82,933<span></span>\n",
      "</td>, <td class=\"nump\">20,716<span></span>\n",
      "</td>, <td class=\"nump\">19,269<span></span>\n",
      "</td>, <td class=\"nump\">16,876<span></span>\n",
      "</td>, <td class=\"nump\">20,117<span></span>\n",
      "</td>, <td class=\"nump\">19,598<span></span>\n",
      "</td>, <td class=\"nump\">18,213<span></span>\n",
      "</td>, <td class=\"nump\">5,107<span></span>\n",
      "</td>, <td class=\"nump\">5,111<span></span>\n",
      "</td>, <td class=\"nump\">4,885<span></span>\n",
      "</td>, <td class=\"nump\">69,916<span></span>\n",
      "</td>, <td class=\"nump\">52,959<span></span>\n",
      "</td>, <td class=\"nump\">42,959<span></span>\n",
      "</td>, <td class=\"nump\">1,186<span></span>\n",
      "</td>, <td class=\"nump\">77<span></span>\n",
      "</td>, <td class=\"nump\">729<span></span>\n",
      "</td>, <td class=\"nump\">71,102<span></span>\n",
      "</td>, <td class=\"nump\">53,036<span></span>\n",
      "</td>, <td class=\"nump\">43,688<span></span>\n",
      "</td>, <td class=\"nump\">9,831<span></span>\n",
      "</td>, <td class=\"nump\">8,755<span></span>\n",
      "</td>, <td class=\"nump\">4,448<span></span>\n",
      "</td>, <td class=\"nump\">$ 61,271<span></span>\n",
      "</td>, <td class=\"nump\">$ 44,281<span></span>\n",
      "</td>, <td class=\"nump\">$ 39,240<span></span>\n",
      "</td>, <td class=\"nump\">$ 8.12<span></span>\n",
      "</td>, <td class=\"nump\">$ 5.82<span></span>\n",
      "</td>, <td class=\"nump\">$ 5.11<span></span>\n",
      "</td>, <td class=\"nump\">$ 8.05<span></span>\n",
      "</td>, <td class=\"nump\">$ 5.76<span></span>\n",
      "</td>, <td class=\"nump\">$ 5.06<span></span>\n",
      "</td>, <td class=\"nump\">7,547<span></span>\n",
      "</td>, <td class=\"nump\">7,610<span></span>\n",
      "</td>, <td class=\"nump\">7,673<span></span>\n",
      "</td>, <td class=\"nump\">7,608<span></span>\n",
      "</td>, <td class=\"nump\">7,683<span></span>\n",
      "</td>, <td class=\"nump\">7,753<span></span>\n",
      "</td>, <td class=\"nump\">$ 71,074<span></span>\n",
      "</td>, <td class=\"nump\">$ 68,041<span></span>\n",
      "</td>, <td class=\"nump\">$ 66,069<span></span>\n",
      "</td>, <td class=\"nump\">18,219<span></span>\n",
      "</td>, <td class=\"nump\">16,017<span></span>\n",
      "</td>, <td class=\"nump\">16,273<span></span>\n",
      "</td>, <td class=\"nump\">97,014<span></span>\n",
      "</td>, <td class=\"nump\">74,974<span></span>\n",
      "</td>, <td class=\"nump\">59,774<span></span>\n",
      "</td>, <td class=\"nump\">$ 34,013<span></span>\n",
      "</td>, <td class=\"nump\">$ 30,061<span></span>\n",
      "</td>, <td class=\"nump\">$ 26,637<span></span>\n",
      "</td>]\n"
     ]
    }
   ],
   "source": [
    "print(Numbers)"
   ]
  },
  {
   "cell_type": "markdown",
   "metadata": {
    "id": "jtT03R4nxjxI"
   },
   "source": [
    "## Clean & Merge Data and Return the Income Statement DataFrame"
   ]
  },
  {
   "cell_type": "code",
   "execution_count": null,
   "metadata": {
    "colab": {
     "base_uri": "https://localhost:8080/",
     "height": 770
    },
    "id": "yd9q7fjTx3BH",
    "outputId": "22ce7f87-c85c-48c4-d7c1-470156729120"
   },
   "outputs": [
    {
     "data": {
      "text/html": [
       "\n",
       "  <div id=\"df-6f2d1e5e-8551-40fb-8888-1fc70a7a3f46\">\n",
       "    <div class=\"colab-df-container\">\n",
       "      <div>\n",
       "<style scoped>\n",
       "    .dataframe tbody tr th:only-of-type {\n",
       "        vertical-align: middle;\n",
       "    }\n",
       "\n",
       "    .dataframe tbody tr th {\n",
       "        vertical-align: top;\n",
       "    }\n",
       "\n",
       "    .dataframe thead th {\n",
       "        text-align: right;\n",
       "    }\n",
       "</style>\n",
       "<table border=\"1\" class=\"dataframe\">\n",
       "  <thead>\n",
       "    <tr style=\"text-align: right;\">\n",
       "      <th></th>\n",
       "      <th>Income Statement Item for Microsoft</th>\n",
       "      <th>Jun. 30 2021</th>\n",
       "      <th>Jun. 30 2020</th>\n",
       "      <th>Jun. 30 2019</th>\n",
       "    </tr>\n",
       "  </thead>\n",
       "  <tbody>\n",
       "    <tr>\n",
       "      <th>0</th>\n",
       "      <td>Revenue</td>\n",
       "      <td>168088.0</td>\n",
       "      <td>143015.0</td>\n",
       "      <td>125843.0</td>\n",
       "    </tr>\n",
       "    <tr>\n",
       "      <th>1</th>\n",
       "      <td>Cost of revenue</td>\n",
       "      <td>52232.0</td>\n",
       "      <td>46078.0</td>\n",
       "      <td>42910.0</td>\n",
       "    </tr>\n",
       "    <tr>\n",
       "      <th>2</th>\n",
       "      <td>Gross margin</td>\n",
       "      <td>115856.0</td>\n",
       "      <td>96937.0</td>\n",
       "      <td>82933.0</td>\n",
       "    </tr>\n",
       "    <tr>\n",
       "      <th>3</th>\n",
       "      <td>Research and development</td>\n",
       "      <td>20716.0</td>\n",
       "      <td>19269.0</td>\n",
       "      <td>16876.0</td>\n",
       "    </tr>\n",
       "    <tr>\n",
       "      <th>4</th>\n",
       "      <td>Sales and marketing</td>\n",
       "      <td>20117.0</td>\n",
       "      <td>19598.0</td>\n",
       "      <td>18213.0</td>\n",
       "    </tr>\n",
       "    <tr>\n",
       "      <th>5</th>\n",
       "      <td>General and administrative</td>\n",
       "      <td>5107.0</td>\n",
       "      <td>5111.0</td>\n",
       "      <td>4885.0</td>\n",
       "    </tr>\n",
       "    <tr>\n",
       "      <th>6</th>\n",
       "      <td>Operating income</td>\n",
       "      <td>69916.0</td>\n",
       "      <td>52959.0</td>\n",
       "      <td>42959.0</td>\n",
       "    </tr>\n",
       "    <tr>\n",
       "      <th>7</th>\n",
       "      <td>Other income net</td>\n",
       "      <td>1186.0</td>\n",
       "      <td>77.0</td>\n",
       "      <td>729.0</td>\n",
       "    </tr>\n",
       "    <tr>\n",
       "      <th>8</th>\n",
       "      <td>Income before income taxes</td>\n",
       "      <td>71102.0</td>\n",
       "      <td>53036.0</td>\n",
       "      <td>43688.0</td>\n",
       "    </tr>\n",
       "    <tr>\n",
       "      <th>9</th>\n",
       "      <td>Provision for income taxes</td>\n",
       "      <td>9831.0</td>\n",
       "      <td>8755.0</td>\n",
       "      <td>4448.0</td>\n",
       "    </tr>\n",
       "    <tr>\n",
       "      <th>10</th>\n",
       "      <td>Net income</td>\n",
       "      <td>61271.0</td>\n",
       "      <td>44281.0</td>\n",
       "      <td>39240.0</td>\n",
       "    </tr>\n",
       "    <tr>\n",
       "      <th>11</th>\n",
       "      <td>Earnings per share:</td>\n",
       "      <td>nan</td>\n",
       "      <td>nan</td>\n",
       "      <td>nan</td>\n",
       "    </tr>\n",
       "    <tr>\n",
       "      <th>12</th>\n",
       "      <td>Basic</td>\n",
       "      <td>8.12</td>\n",
       "      <td>5.82</td>\n",
       "      <td>5.11</td>\n",
       "    </tr>\n",
       "    <tr>\n",
       "      <th>13</th>\n",
       "      <td>Diluted</td>\n",
       "      <td>8.05</td>\n",
       "      <td>5.76</td>\n",
       "      <td>5.06</td>\n",
       "    </tr>\n",
       "    <tr>\n",
       "      <th>14</th>\n",
       "      <td>Weighted average shares outstanding:</td>\n",
       "      <td>nan</td>\n",
       "      <td>nan</td>\n",
       "      <td>nan</td>\n",
       "    </tr>\n",
       "    <tr>\n",
       "      <th>15</th>\n",
       "      <td>Basic</td>\n",
       "      <td>7547.0</td>\n",
       "      <td>7610.0</td>\n",
       "      <td>7673.0</td>\n",
       "    </tr>\n",
       "    <tr>\n",
       "      <th>16</th>\n",
       "      <td>Diluted</td>\n",
       "      <td>7608.0</td>\n",
       "      <td>7683.0</td>\n",
       "      <td>7753.0</td>\n",
       "    </tr>\n",
       "    <tr>\n",
       "      <th>17</th>\n",
       "      <td>Product</td>\n",
       "      <td>nan</td>\n",
       "      <td>nan</td>\n",
       "      <td>nan</td>\n",
       "    </tr>\n",
       "    <tr>\n",
       "      <th>18</th>\n",
       "      <td>Revenue</td>\n",
       "      <td>71074.0</td>\n",
       "      <td>68041.0</td>\n",
       "      <td>66069.0</td>\n",
       "    </tr>\n",
       "    <tr>\n",
       "      <th>19</th>\n",
       "      <td>Cost of revenue</td>\n",
       "      <td>18219.0</td>\n",
       "      <td>16017.0</td>\n",
       "      <td>16273.0</td>\n",
       "    </tr>\n",
       "    <tr>\n",
       "      <th>20</th>\n",
       "      <td>Service and Other</td>\n",
       "      <td>nan</td>\n",
       "      <td>nan</td>\n",
       "      <td>nan</td>\n",
       "    </tr>\n",
       "    <tr>\n",
       "      <th>21</th>\n",
       "      <td>Revenue</td>\n",
       "      <td>97014.0</td>\n",
       "      <td>74974.0</td>\n",
       "      <td>59774.0</td>\n",
       "    </tr>\n",
       "    <tr>\n",
       "      <th>22</th>\n",
       "      <td>Cost of revenue</td>\n",
       "      <td>34013.0</td>\n",
       "      <td>30061.0</td>\n",
       "      <td>26637.0</td>\n",
       "    </tr>\n",
       "  </tbody>\n",
       "</table>\n",
       "</div>\n",
       "      <button class=\"colab-df-convert\" onclick=\"convertToInteractive('df-6f2d1e5e-8551-40fb-8888-1fc70a7a3f46')\"\n",
       "              title=\"Convert this dataframe to an interactive table.\"\n",
       "              style=\"display:none;\">\n",
       "        \n",
       "  <svg xmlns=\"http://www.w3.org/2000/svg\" height=\"24px\"viewBox=\"0 0 24 24\"\n",
       "       width=\"24px\">\n",
       "    <path d=\"M0 0h24v24H0V0z\" fill=\"none\"/>\n",
       "    <path d=\"M18.56 5.44l.94 2.06.94-2.06 2.06-.94-2.06-.94-.94-2.06-.94 2.06-2.06.94zm-11 1L8.5 8.5l.94-2.06 2.06-.94-2.06-.94L8.5 2.5l-.94 2.06-2.06.94zm10 10l.94 2.06.94-2.06 2.06-.94-2.06-.94-.94-2.06-.94 2.06-2.06.94z\"/><path d=\"M17.41 7.96l-1.37-1.37c-.4-.4-.92-.59-1.43-.59-.52 0-1.04.2-1.43.59L10.3 9.45l-7.72 7.72c-.78.78-.78 2.05 0 2.83L4 21.41c.39.39.9.59 1.41.59.51 0 1.02-.2 1.41-.59l7.78-7.78 2.81-2.81c.8-.78.8-2.07 0-2.86zM5.41 20L4 18.59l7.72-7.72 1.47 1.35L5.41 20z\"/>\n",
       "  </svg>\n",
       "      </button>\n",
       "      \n",
       "  <style>\n",
       "    .colab-df-container {\n",
       "      display:flex;\n",
       "      flex-wrap:wrap;\n",
       "      gap: 12px;\n",
       "    }\n",
       "\n",
       "    .colab-df-convert {\n",
       "      background-color: #E8F0FE;\n",
       "      border: none;\n",
       "      border-radius: 50%;\n",
       "      cursor: pointer;\n",
       "      display: none;\n",
       "      fill: #1967D2;\n",
       "      height: 32px;\n",
       "      padding: 0 0 0 0;\n",
       "      width: 32px;\n",
       "    }\n",
       "\n",
       "    .colab-df-convert:hover {\n",
       "      background-color: #E2EBFA;\n",
       "      box-shadow: 0px 1px 2px rgba(60, 64, 67, 0.3), 0px 1px 3px 1px rgba(60, 64, 67, 0.15);\n",
       "      fill: #174EA6;\n",
       "    }\n",
       "\n",
       "    [theme=dark] .colab-df-convert {\n",
       "      background-color: #3B4455;\n",
       "      fill: #D2E3FC;\n",
       "    }\n",
       "\n",
       "    [theme=dark] .colab-df-convert:hover {\n",
       "      background-color: #434B5C;\n",
       "      box-shadow: 0px 1px 3px 1px rgba(0, 0, 0, 0.15);\n",
       "      filter: drop-shadow(0px 1px 2px rgba(0, 0, 0, 0.3));\n",
       "      fill: #FFFFFF;\n",
       "    }\n",
       "  </style>\n",
       "\n",
       "      <script>\n",
       "        const buttonEl =\n",
       "          document.querySelector('#df-6f2d1e5e-8551-40fb-8888-1fc70a7a3f46 button.colab-df-convert');\n",
       "        buttonEl.style.display =\n",
       "          google.colab.kernel.accessAllowed ? 'block' : 'none';\n",
       "\n",
       "        async function convertToInteractive(key) {\n",
       "          const element = document.querySelector('#df-6f2d1e5e-8551-40fb-8888-1fc70a7a3f46');\n",
       "          const dataTable =\n",
       "            await google.colab.kernel.invokeFunction('convertToInteractive',\n",
       "                                                     [key], {});\n",
       "          if (!dataTable) return;\n",
       "\n",
       "          const docLinkHtml = 'Like what you see? Visit the ' +\n",
       "            '<a target=\"_blank\" href=https://colab.research.google.com/notebooks/data_table.ipynb>data table notebook</a>'\n",
       "            + ' to learn more about interactive tables.';\n",
       "          element.innerHTML = '';\n",
       "          dataTable['output_type'] = 'display_data';\n",
       "          await google.colab.output.renderOutput(dataTable, element);\n",
       "          const docLink = document.createElement('div');\n",
       "          docLink.innerHTML = docLinkHtml;\n",
       "          element.appendChild(docLink);\n",
       "        }\n",
       "      </script>\n",
       "    </div>\n",
       "  </div>\n",
       "  "
      ],
      "text/plain": [
       "     Income Statement Item for Microsoft Jun. 30 2021 Jun. 30 2020  \\\n",
       "0                                Revenue     168088.0     143015.0   \n",
       "1                        Cost of revenue      52232.0      46078.0   \n",
       "2                           Gross margin     115856.0      96937.0   \n",
       "3               Research and development      20716.0      19269.0   \n",
       "4                    Sales and marketing      20117.0      19598.0   \n",
       "5             General and administrative       5107.0       5111.0   \n",
       "6                       Operating income      69916.0      52959.0   \n",
       "7                       Other income net       1186.0         77.0   \n",
       "8             Income before income taxes      71102.0      53036.0   \n",
       "9             Provision for income taxes       9831.0       8755.0   \n",
       "10                            Net income      61271.0      44281.0   \n",
       "11                   Earnings per share:          nan          nan   \n",
       "12                                 Basic         8.12         5.82   \n",
       "13                               Diluted         8.05         5.76   \n",
       "14  Weighted average shares outstanding:          nan          nan   \n",
       "15                                 Basic       7547.0       7610.0   \n",
       "16                               Diluted       7608.0       7683.0   \n",
       "17                               Product          nan          nan   \n",
       "18                               Revenue      71074.0      68041.0   \n",
       "19                       Cost of revenue      18219.0      16017.0   \n",
       "20                     Service and Other          nan          nan   \n",
       "21                               Revenue      97014.0      74974.0   \n",
       "22                       Cost of revenue      34013.0      30061.0   \n",
       "\n",
       "   Jun. 30 2019  \n",
       "0      125843.0  \n",
       "1       42910.0  \n",
       "2       82933.0  \n",
       "3       16876.0  \n",
       "4       18213.0  \n",
       "5        4885.0  \n",
       "6       42959.0  \n",
       "7         729.0  \n",
       "8       43688.0  \n",
       "9        4448.0  \n",
       "10      39240.0  \n",
       "11          nan  \n",
       "12         5.11  \n",
       "13         5.06  \n",
       "14          nan  \n",
       "15       7673.0  \n",
       "16       7753.0  \n",
       "17          nan  \n",
       "18      66069.0  \n",
       "19      16273.0  \n",
       "20          nan  \n",
       "21      59774.0  \n",
       "22      26637.0  "
      ]
     },
     "metadata": {},
     "output_type": "display_data"
    }
   ],
   "source": [
    "# import regex library to extract only digit numbers from \"the scraped Numbers\"\n",
    "import re\n",
    "l = []\n",
    "for i in Numbers[:]:\n",
    "    x = re.findall(\"([0-9]+.[0-9]+)\", str(i)) # return the string format e.g. \"7.8\" or '887,99'\n",
    "    if x == []: # nothing matched in the first two clauses\n",
    "      x = re.findall(\"([0-9]+)\", str(i)) # return the string format e.g. \"788\"\n",
    "      \n",
    "    try:\n",
    "      x = int(x[0].replace(',','')) # for x, replace the ',' with '' and convert 'string' into 'int' \n",
    "    except:\n",
    "      x = float(x[0]) # otherwise, for x, convert 'string' to 'floating point'\n",
    "    l.append(x) # store each number into a list 'l'\n",
    "\n",
    "\n",
    "# import numpy\n",
    "import numpy as np\n",
    "Num = np.round(np.array(l).reshape(int(len(l)/3),3),2) # convert the list 'l' into numpy array 'Num', reshape the array 'Num' into the dimension: 23 X 3, round all numbers to 2 decimal places\n",
    "Num = np.insert(Num, [11,13,15,17], np.nan, axis=0 ) # insert 4 rows of Nan values before the row index 11,13,15,17\n",
    "\n",
    "\n",
    "# Extract the income statement items using the HTML Tag <a class=\"a\">\n",
    "coln = []\n",
    "for i in range(len(soup.find_all ('a', class_='a'))):\n",
    "  name = str(soup.find_all ('a', class_='a')[i])\n",
    "  name = re.findall('>.+?<',name)[0] # return the string format e.g. \">ABc<\"\n",
    "  name = re.sub('[<,>]','', name) # replace the '<' , ',' , '>' with  ''\n",
    "  name = re.sub('strong','', name) # replace the 'strong' with  ''\n",
    "  coln.append(name) # store each name into a list 'coln'\n",
    "\n",
    "\n",
    "\n",
    "coln = np.array(coln).reshape(23,1) # reshape the coln name into the dimension: 23 X 1\n",
    "coln_Num = np.concatenate((coln, Num), axis=1) # concat 'coln' and 'Num'\n",
    "\n",
    "\n",
    "# Extract the income statement headers using the HTML Tag   <th class=\"th\">\n",
    "header = []\n",
    "for i in range(len(soup.find_all('th', class_='th'))):\n",
    "  name = str(soup.find_all('th', class_='th')[i])\n",
    "  name = re.findall('>.+?<',name)[0] # return the string format e.g. \">ABc<\"\n",
    "  name = re.sub('[<,>]','', name) # replace the '<' , ',' , '>' with  ''\n",
    "  name = re.sub('div','',name) # replace the 'div' with  ''\n",
    "  header.append(name) # store each name into a list 'header'\n",
    "header.pop(0) # exclude the first element '12 Months Ended'\n",
    "header.insert(0,'Income Statement Item for Microsoft') # insert the 'Income Statement Item for Microsoft' at the index 0\n",
    "\n",
    "\n",
    "import pandas as pd\n",
    "df_micros = pd.DataFrame(coln_Num, columns = header) # Convert the income statement into DataFrame\n",
    "display(df_micros)"
   ]
  },
  {
   "cell_type": "code",
   "execution_count": null,
   "metadata": {
    "colab": {
     "base_uri": "https://localhost:8080/"
    },
    "id": "mN1xPwcX-_hO",
    "outputId": "2e909a32-0fed-4095-94fc-5d8cced3bcf7"
   },
   "outputs": [
    {
     "name": "stdout",
     "output_type": "stream",
     "text": [
      "Drive already mounted at /content/drive; to attempt to forcibly remount, call drive.mount(\"/content/drive\", force_remount=True).\n"
     ]
    }
   ],
   "source": [
    "from google.colab import drive\n",
    "drive.mount('/content/drive')"
   ]
  },
  {
   "cell_type": "code",
   "execution_count": null,
   "metadata": {
    "id": "FL7EX-BAdqfz"
   },
   "outputs": [],
   "source": [
    "!sudo apt-get install texlive-xetex texlive-fonts-recommended texlive-plain-generic"
   ]
  },
  {
   "cell_type": "code",
   "execution_count": null,
   "metadata": {
    "colab": {
     "base_uri": "https://localhost:8080/"
    },
    "id": "SEgD81MbGVVl",
    "outputId": "746a432e-6e8a-4db3-cbee-9f87578f5c71"
   },
   "outputs": [
    {
     "name": "stdout",
     "output_type": "stream",
     "text": [
      "[NbConvertApp] Converting notebook /content/drive/MyDrive/BA_870/HW/1/BA870_Assignment #1_Ji_Qi.ipynb to pdf\n",
      "[NbConvertApp] Writing 61539 bytes to ./notebook.tex\n",
      "[NbConvertApp] Building PDF\n",
      "[NbConvertApp] Running xelatex 3 times: ['xelatex', './notebook.tex', '-quiet']\n",
      "[NbConvertApp] Running bibtex 1 time: ['bibtex', './notebook']\n",
      "[NbConvertApp] WARNING | bibtex had problems, most likely because there were no citations\n",
      "[NbConvertApp] PDF successfully created\n",
      "[NbConvertApp] Writing 74007 bytes to /content/drive/MyDrive/BA_870/HW/1/BA870_Assignment #1_Ji_Qi.pdf\n"
     ]
    }
   ],
   "source": [
    "!jupyter nbconvert --to pdf '/content/drive/MyDrive/BA_870/HW/1/BA870_Assignment #1_Ji_Qi.ipynb'"
   ]
  },
  {
   "cell_type": "code",
   "execution_count": null,
   "metadata": {
    "id": "sdYV-nLIBEyt"
   },
   "outputs": [],
   "source": []
  }
 ],
 "metadata": {
  "colab": {
   "collapsed_sections": [],
   "name": "BA870_Assignment #1_Ji_Qi.ipynb",
   "provenance": [],
   "toc_visible": true
  },
  "kernelspec": {
   "display_name": "Python 3 (ipykernel)",
   "language": "python",
   "name": "python3"
  },
  "language_info": {
   "codemirror_mode": {
    "name": "ipython",
    "version": 3
   },
   "file_extension": ".py",
   "mimetype": "text/x-python",
   "name": "python",
   "nbconvert_exporter": "python",
   "pygments_lexer": "ipython3",
   "version": "3.8.12"
  }
 },
 "nbformat": 4,
 "nbformat_minor": 1
}
